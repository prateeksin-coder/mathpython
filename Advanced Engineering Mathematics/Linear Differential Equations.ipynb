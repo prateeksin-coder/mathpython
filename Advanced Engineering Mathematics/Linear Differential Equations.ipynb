{
 "cells": [
  {
   "attachments": {
    "b9c84b0e-f7a6-420e-a2ed-e48e287289cd.png": {
     "image/png": "[encoded data removed]"
    }
   },
   "cell_type": "markdown",
   "id": "746cb143-4b40-4e66-897a-9f91cbd7ac43",
   "metadata": {},
   "source": [
    "## GENERAL LINEAR DIFFERENTIAL EQUATION OF ORDER\n",
    "![image.png](attachment:b9c84b0e-f7a6-420e-a2ed-e48e287289cd.png)\n",
    "##### The general linear differential equation of order n has the form\n",
    "##### $a_{o}(x){\\frac{d^{n}y}{d x^{n}}}~+~a_{1}(x){\\frac{d^{n-1}y}{d x^{n-1}}}~+~\\cdot\\cdot\\cdot~+~a_{n-1}(x){\\frac{d y}{d x}}~+~a_{n}(x)y~~~=~~R(x)$\n",
    "##### A differential equation which cannot be written in this form is called nonlinear\n",
    "##### <font color='magenta'>Example 1</font> - $x\\,{\\frac{d^{2}y}{d x^{2}}}+\\;3\\,{\\frac{d y}{d x}}-\\;2x y\\;\\;=\\;\\;\\sin x$ is a second order Linear differential Equation\n",
    "##### <font color='magenta'>Example 2</font> - $y\\,\\frac{d^{2}y}{d x^{2}}\\,-\\,x\\Biggl(\\frac{d y}{d x}\\Biggr)^{2}\\,+\\,x^{2}y\\ \\ =\\ \\ e^{-x}$ is a second order <font color='orange'>nonlinear</font> DE\n",
    "##### If R(x), the right side, is replaced by zero the resulting equation is called the complementary, <font color='orange'>reduced  or homogeneou</font>s equation.\n",
    "##### If R(x) != 0 the equation is called as <font color='orange'> complete or nonhomogeneous </font> equation\n",
    "##### If $x\\,{\\frac{d y}{d x^{2}}}+3{\\frac{d y}{d x}}-2x y\\;=\\;{\\mathrm{sin}}\\;x$ is the complete equation\n",
    "##### <font color='magenta'>Example 3</font> - $x{\\frac{d^{2}y}{d x^{2}}}+3{\\frac{d y}{d x}}-2x y\\ =\\ 0$ is called the corresponding complemantary, reduced or homogenous equation\n",
    "##### If ao(x), ai(x), .. .,an(x) are all constants, the is said to have <font color='magenta'>constant coefficients</font>, otherwise it is said to have <font color='magenta'>variable coefficients </font>n."
   ]
  },
  {
   "cell_type": "markdown",
   "id": "517cc1a2-34d4-4b37-9fcc-325abd653549",
   "metadata": {},
   "source": [
    "### Reduced or Homogenous Equation where the RHS is 0"
   ]
  },
  {
   "cell_type": "markdown",
   "id": "82ba3614-54c3-47bc-b920-4683a1857964",
   "metadata": {},
   "source": [
    "#### Solve $(D^{3}-9D)y=0$"
   ]
  },
  {
   "cell_type": "code",
   "execution_count": 188,
   "id": "f78cef44-8478-4792-9a1c-3de66842313c",
   "metadata": {},
   "outputs": [
    {
     "data": {
      "text/latex": [
       "$\\displaystyle \\frac{d}{d x} f{\\left(x \\right)}$"
      ],
      "text/plain": [
       "Derivative(f(x), x)"
      ]
     },
     "execution_count": 188,
     "metadata": {},
     "output_type": "execute_result"
    }
   ],
   "source": [
    "import sympy as sp\n",
    "x = sp.Symbol('x')\n",
    "y = sp.Function('f')(x)\n",
    "y.diff(x)"
   ]
  },
  {
   "cell_type": "code",
   "execution_count": 189,
   "id": "84cdd2bf-0dd4-4f23-98c9-2910bd4a5f6a",
   "metadata": {},
   "outputs": [
    {
     "data": {
      "text/latex": [
       "$\\displaystyle \\left(- 9 \\frac{d}{d x} f{\\left(x \\right)} + \\frac{d^{3}}{d x^{3}} f{\\left(x \\right)}\\right) f{\\left(x \\right)} = 0$"
      ],
      "text/plain": [
       "Eq((-9*Derivative(f(x), x) + Derivative(f(x), (x, 3)))*f(x), 0)"
      ]
     },
     "execution_count": 189,
     "metadata": {},
     "output_type": "execute_result"
    }
   ],
   "source": [
    "diff_eq = sp.Eq((y.diff(x,x,x) - 9*y.diff(x))*y,0)\n",
    "diff_eq"
   ]
  },
  {
   "cell_type": "code",
   "execution_count": 190,
   "id": "0246290d-5244-48cb-bb7e-1fef8b32002f",
   "metadata": {},
   "outputs": [
    {
     "data": {
      "text/latex": [
       "$\\displaystyle f{\\left(x \\right)} = C_{1} + C_{2} e^{- 3 x} + C_{3} e^{3 x}$"
      ],
      "text/plain": [
       "Eq(f(x), C1 + C2*exp(-3*x) + C3*exp(3*x))"
      ]
     },
     "execution_count": 190,
     "metadata": {},
     "output_type": "execute_result"
    }
   ],
   "source": [
    "soln = sp.dsolve(diff_eq, y)\n",
    "soln"
   ]
  },
  {
   "cell_type": "markdown",
   "id": "150733b3-9414-4ff6-851f-7065ca671aa8",
   "metadata": {},
   "source": [
    "#### Solve $2y^{\\prime\\prime}-5y^{\\prime}+2y\\ =\\ 0$"
   ]
  },
  {
   "cell_type": "code",
   "execution_count": 192,
   "id": "48106c79-96c5-4550-8a0a-7992bcfad045",
   "metadata": {},
   "outputs": [
    {
     "data": {
      "text/latex": [
       "$\\displaystyle 2 f{\\left(x \\right)} - 5 \\frac{d}{d x} f{\\left(x \\right)} + 2 \\frac{d^{2}}{d x^{2}} f{\\left(x \\right)} = 0$"
      ],
      "text/plain": [
       "Eq(2*f(x) - 5*Derivative(f(x), x) + 2*Derivative(f(x), (x, 2)), 0)"
      ]
     },
     "execution_count": 192,
     "metadata": {},
     "output_type": "execute_result"
    }
   ],
   "source": [
    "diff_eq = sp.Eq((2*y.diff(x,x) - 5*y.diff(x)) + 2*y,0)\n",
    "diff_eq"
   ]
  },
  {
   "cell_type": "code",
   "execution_count": 193,
   "id": "a1d72e08-e4ea-4150-9d98-1c05c83ab145",
   "metadata": {},
   "outputs": [
    {
     "data": {
      "text/latex": [
       "$\\displaystyle f{\\left(x \\right)} = C_{1} e^{\\frac{x}{2}} + C_{2} e^{2 x}$"
      ],
      "text/plain": [
       "Eq(f(x), C1*exp(x/2) + C2*exp(2*x))"
      ]
     },
     "execution_count": 193,
     "metadata": {},
     "output_type": "execute_result"
    }
   ],
   "source": [
    "soln = sp.dsolve(diff_eq, y)\n",
    "soln"
   ]
  },
  {
   "cell_type": "markdown",
   "id": "eea5a357-0a31-41f6-9fcb-6189a943346a",
   "metadata": {},
   "source": [
    "#### Solve :  $(D+2)^{3}(D-3)^{4}(D^{2}+2D+5)y\\,=\\,0$"
   ]
  },
  {
   "cell_type": "code",
   "execution_count": 195,
   "id": "ae5af614-f8f1-4b96-95e6-73d22852c1d0",
   "metadata": {},
   "outputs": [
    {
     "data": {
      "text/latex": [
       "$\\displaystyle \\left(\\frac{d}{d x} f{\\left(x \\right)} - 3\\right)^{4} \\left(\\frac{d}{d x} f{\\left(x \\right)} + 2\\right)^{3} \\cdot \\left(2 \\frac{d}{d x} f{\\left(x \\right)} + \\frac{d^{2}}{d x^{2}} f{\\left(x \\right)} + 5\\right) f{\\left(x \\right)} = 0$"
      ],
      "text/plain": [
       "Eq((Derivative(f(x), x) - 3)**4*(Derivative(f(x), x) + 2)**3*(2*Derivative(f(x), x) + Derivative(f(x), (x, 2)) + 5)*f(x), 0)"
      ]
     },
     "execution_count": 195,
     "metadata": {},
     "output_type": "execute_result"
    }
   ],
   "source": [
    "diff_eq = sp.Eq((y.diff(x)+2)**3*(y.diff(x)-3)**4*(y.diff(x,x)+2*y.diff(x)+5)*y,0)\n",
    "diff_eq"
   ]
  },
  {
   "cell_type": "code",
   "execution_count": 196,
   "id": "dc4606f1-1ca4-470b-8068-2d9f0db9054e",
   "metadata": {},
   "outputs": [
    {
     "data": {
      "text/plain": [
       "[Eq(f(x), C1 + 3*x),\n",
       " Eq(f(x), C1 - 2*x),\n",
       " Eq(f(x), C1 + C2*exp(-2*x) - 5*x/2),\n",
       " Eq(f(x), 0)]"
      ]
     },
     "execution_count": 196,
     "metadata": {},
     "output_type": "execute_result"
    }
   ],
   "source": [
    "soln = sp.dsolve(diff_eq, y)\n",
    "soln"
   ]
  },
  {
   "cell_type": "markdown",
   "id": "73c621d5-a1c6-42f3-864d-703d9a4539e6",
   "metadata": {},
   "source": [
    "#### Solve $y^{\\prime\\prime}-8y^{\\prime}+16y=0$"
   ]
  },
  {
   "cell_type": "code",
   "execution_count": 198,
   "id": "3f402197-b7fd-4ffe-887a-d9454bfd1a5d",
   "metadata": {},
   "outputs": [
    {
     "data": {
      "text/latex": [
       "$\\displaystyle 16 f{\\left(x \\right)} - 8 \\frac{d}{d x} f{\\left(x \\right)} + \\frac{d^{2}}{d x^{2}} f{\\left(x \\right)} = 0$"
      ],
      "text/plain": [
       "Eq(16*f(x) - 8*Derivative(f(x), x) + Derivative(f(x), (x, 2)), 0)"
      ]
     },
     "execution_count": 198,
     "metadata": {},
     "output_type": "execute_result"
    }
   ],
   "source": [
    "diff_eq = sp.Eq(y.diff(x,x) - 8*y.diff(x) + 16*y,0)\n",
    "diff_eq"
   ]
  },
  {
   "cell_type": "code",
   "execution_count": 199,
   "id": "f3860b5c-9412-42dd-a961-b94728679bfa",
   "metadata": {},
   "outputs": [
    {
     "data": {
      "text/latex": [
       "$\\displaystyle f{\\left(x \\right)} = \\left(C_{1} + C_{2} x\\right) e^{4 x}$"
      ],
      "text/plain": [
       "Eq(f(x), (C1 + C2*x)*exp(4*x))"
      ]
     },
     "execution_count": 199,
     "metadata": {},
     "output_type": "execute_result"
    }
   ],
   "source": [
    "soln = sp.dsolve(diff_eq, y)\n",
    "soln"
   ]
  },
  {
   "cell_type": "markdown",
   "id": "40a3678f-aca4-4cd5-869f-96ac717b0bb0",
   "metadata": {},
   "source": [
    "### The Complete or non homogenous equation with undetermined co-efficients\n",
    "### Solve : $(D^{2}+2D+4)y\\,=\\,8x^{2}+12e^{-x}$\n",
    "### <font color='red'> Sympy cannot Solve </font>\n",
    "### <font color='red'> MATLAB cannot Solve either</font>\n",
    "### As per the book the required particular solution CF + PI is :\n",
    "### $y~=~e^{-x}(e_{1}\\cos\\sqrt{3}\\:x~+~c_{2}\\sin\\sqrt{3}\\:x)+2x^{2}-2x+4e^{-x}$"
   ]
  },
  {
   "cell_type": "code",
   "execution_count": 201,
   "id": "b8ba9db8-3659-4d16-83c5-8325b758dd49",
   "metadata": {},
   "outputs": [],
   "source": [
    "x = sp.Symbol('x')\n",
    "y = sp.Function('y')(x)\n",
    "#Eq = y.diff(x,x)**2+2*y.diff(x)+4*y - 8*x*x - 12*sp.exp(-x)\n",
    "#sol = sp.dsolve(Eq,y,hint='nth_linear_euler_eq_nonhomogeneous_undetermined_coefficients').expand()\n",
    "#sol"
   ]
  },
  {
   "cell_type": "markdown",
   "id": "5f397e3e-dcc4-46e9-8dd9-ef1b6248e06a",
   "metadata": {},
   "source": [
    "### Lets try to solve a 2nd order equation by the Euler method. This is a second order differential equation\n",
    "### ${\\frac{d^{2}y}{d t^{2}}}+\\,64y\\;\\;=\\;\\;0$\n",
    "### Initial conditions: $y={\\frac{1}{\\mathrm{6}}}\\operatorname{ft},\\ \\ \\,d y/d t=0\\quad{\\mathrm{at}}\\quad t=0$"
   ]
  },
  {
   "cell_type": "code",
   "execution_count": 203,
   "id": "90556104-c5fa-40ee-b4f9-5abea8e0a653",
   "metadata": {},
   "outputs": [
    {
     "data": {
      "text/latex": [
       "$\\displaystyle y{\\left(x \\right)} = C_{1} \\sin{\\left(8 x \\right)} + C_{2} \\cos{\\left(8 x \\right)}$"
      ],
      "text/plain": [
       "Eq(y(x), C1*sin(8*x) + C2*cos(8*x))"
      ]
     },
     "execution_count": 203,
     "metadata": {},
     "output_type": "execute_result"
    }
   ],
   "source": [
    "# Solution with initial conditions given to sympy\n",
    "x = sp.Symbol('x')\n",
    "y = sp.Function('y')(x)\n",
    "Eqn = sp.Eq(y.diff(x,x) + 64*y, 0)\n",
    "#ics = {f.subs(x,1):0,f.diff(x).subs(x,2):1}\n",
    "ics = {y.subs(x,0):sp.Float(1/6),y.diff(x).subs(x,0):0}\n",
    "sol = sp.dsolve(Eqn,y)#,ics=ics, evaluate='false')\n",
    "sol"
   ]
  },
  {
   "cell_type": "code",
   "execution_count": 204,
   "id": "709e5370-2129-4804-a9a5-d9bc6f62c6b7",
   "metadata": {},
   "outputs": [],
   "source": [
    "# Basic idea of Euler's method:\n",
    "# y'(x) = y(x + h) - y(x) / h => h*y'(x) = y(x+h) - y(x) => y(x + h) = y(x) + h*y'(x)\n",
    "# IT follows, if we move step by step :\n",
    "# y(x1) = x0 + h*y'(x0) - x1 = x0 + h\n",
    "# y(x2) = x1 + h*y'(x1) - x2 = x1 + h\n",
    "# We need to start with a initial value, which in this case is y(0) = 1\n",
    "# Step size h = 0.1\n",
    "def eulerydot(h,x,y): # h is the step size\n",
    "                      # x is the initial point x\n",
    "                      # y is the value at the initial point x\n",
    "    #h = 0.1\n",
    "    #x = 0 # because initial condition is x = 0\n",
    "    #y = 1 # initial condition\n",
    "    x = x + h\n",
    "    for i in range(5):\n",
    "            y = y + h*(2*x + y)\n",
    "            print('The new value of y,x are :',y,x)\n",
    "            x = x + h\n",
    "    return y"
   ]
  },
  {
   "cell_type": "code",
   "execution_count": 205,
   "id": "6f5966eb-a5e4-45c1-a269-296c971631b4",
   "metadata": {},
   "outputs": [
    {
     "data": {
      "text/latex": [
       "$\\displaystyle C_{1} x \\left(\\frac{61 x^{4}}{147456} - \\frac{31 x^{3}}{9216} - \\frac{7 x^{2}}{192} + \\frac{x}{8} + 1\\right) + O\\left(x^{6}\\right)$"
      ],
      "text/plain": [
       "C1*x*(61*x**4/147456 - 31*x**3/9216 - 7*x**2/192 + x/8 + 1) + O(x**6)"
      ]
     },
     "execution_count": 205,
     "metadata": {},
     "output_type": "execute_result"
    }
   ],
   "source": [
    "x = sp.Symbol('x')\n",
    "y = sp.Function('y')(x)\n",
    "#Eq = y.diff(x,x)**2+2*y.diff(x)+4*y - 8*x*x - 12*sp.exp(-x)\n",
    "#sol = sp.dsolve(Eq,y,hint='nth_linear_euler_eq_nonhomogeneous_undetermined_coefficients').expand()\n",
    "#sol\n",
    "Eqn = sp.Eq(4*x**2*y.diff(x,x) + 4*x*y.diff(x,x) + (x**2 -1)*y, 0)\n",
    "sol = sp.dsolve(Eqn,y)\n",
    "sol.rhs.as_expr()"
   ]
  },
  {
   "cell_type": "code",
   "execution_count": 206,
   "id": "f515877e-2c94-4ef4-bb19-9a6749792799",
   "metadata": {},
   "outputs": [],
   "source": [
    "#sol = sp.dsolve(diff_eq,y)\n",
    "#sol"
   ]
  },
  {
   "cell_type": "code",
   "execution_count": 207,
   "id": "a2921753-c5fa-408f-9749-053f53cafd23",
   "metadata": {},
   "outputs": [],
   "source": [
    "#sp.checkodesol(diff_eq,sol)"
   ]
  },
  {
   "cell_type": "markdown",
   "id": "ad19b2bd-21c3-463f-ad87-56a6077f00f2",
   "metadata": {},
   "source": [
    "### Solve : $(D^{2}+4)y\\,=\\,8\\,\\sin2x$\n",
    "### <font color='red'> Sympy cannot Solve </font>\n",
    "### <font color='red'> MATLAB cannot Solve either</font>"
   ]
  },
  {
   "cell_type": "code",
   "execution_count": 209,
   "id": "c57371e0-8b93-4879-b801-c641b48eaf5c",
   "metadata": {},
   "outputs": [],
   "source": [
    "from sympy import dsolve, Function, Derivative, log, sin\n",
    "from sympy.abc import x\n",
    "f = Function('f')\n",
    "eq = Derivative(f(x), x, x) + 4*f(x) - 8*sin(2*x)\n",
    "#dsolve(eq, f(x),hint='nth_linear_euler_eq_nonhomogeneous_undetermined_coefficients').expand()"
   ]
  },
  {
   "cell_type": "code",
   "execution_count": 210,
   "id": "cb1f7fae-45a8-40f1-9f6c-d4ee1eac9285",
   "metadata": {},
   "outputs": [
    {
     "data": {
      "text/latex": [
       "$\\displaystyle 4 y{\\left(x \\right)} - 8 \\sin{\\left(2 x \\right)} + \\frac{d^{2}}{d x^{2}} y{\\left(x \\right)}$"
      ],
      "text/plain": [
       "4*y(x) - 8*sin(2*x) + Derivative(y(x), (x, 2))"
      ]
     },
     "execution_count": 210,
     "metadata": {},
     "output_type": "execute_result"
    }
   ],
   "source": [
    "x = sp.Symbol('x')\n",
    "y = sp.Function('y')(x)\n",
    "#Eq = y.diff(x,x)+4*y - 8*sp.sin(2*x) #Derivative(y, x, x) - 4*f(x) - 8*sp.sin(2*x)\n",
    "Eq = sp.Derivative(y, x, x) + 4*y - 8*sp.sin(2*x)\n",
    "Eq\n",
    "#diff_eq = sp.Eq(y.diff(x,x)+4*y - 8*sp.sin(2*x),0)\n",
    "#diff_eq\n",
    "#sp.dsolve(Eq, y,hint='nth_linear_euler_eq_nonhomogeneous_undetermined_coefficients').expand()"
   ]
  },
  {
   "cell_type": "code",
   "execution_count": 211,
   "id": "93b2d791-5059-4547-8299-955891d5964a",
   "metadata": {},
   "outputs": [],
   "source": [
    "#soln = sp.dsolve(diff_eq, y,hint='nth_linear_euler_eq_nonhomogeneous_undetermined_coefficients').expand()\n",
    "#soln"
   ]
  },
  {
   "cell_type": "markdown",
   "id": "c4863041-1f2f-49b9-b02f-bfed3a8c56b0",
   "metadata": {},
   "source": [
    "### The Complete or non homogenous equation with variation of Parameters\n",
    "#### Solve $(D^{2}+1)y=\\,\\sec x$\n",
    "### <font color='red'> Sympy cannot Solve </font>\n",
    "### <font color='red'> MATLAB cannot Solve either</font>"
   ]
  },
  {
   "cell_type": "code",
   "execution_count": 213,
   "id": "11cff08d-c15c-43ae-a4e9-8d09ff34abc1",
   "metadata": {},
   "outputs": [
    {
     "data": {
      "text/latex": [
       "$\\displaystyle \\left(\\left(\\frac{d^{2}}{d x^{2}} y{\\left(x \\right)}\\right)^{2} + 1\\right) y{\\left(x \\right)} = \\sec{\\left(x \\right)}$"
      ],
      "text/plain": [
       "Eq((Derivative(y(x), (x, 2))**2 + 1)*y(x), sec(x))"
      ]
     },
     "execution_count": 213,
     "metadata": {},
     "output_type": "execute_result"
    }
   ],
   "source": [
    "diff_eq = sp.Eq((y.diff(x,x)**2+1)*y,sp.sec(x))\n",
    "diff_eq"
   ]
  },
  {
   "cell_type": "code",
   "execution_count": 214,
   "id": "b3d6ba8a-c320-46cc-923e-7e77e9023c49",
   "metadata": {},
   "outputs": [],
   "source": [
    "#soln = sp.dsolve(diff_eq, y)\n",
    "#soln"
   ]
  },
  {
   "cell_type": "markdown",
   "id": "2be93465-f263-4fe6-8483-9d65bca5ba20",
   "metadata": {},
   "source": [
    "#### Reduction to canonical Form\n",
    "#### Solve - $4x^{2}y^{\\prime\\prime}+4x y^{\\prime}+(x^{2}-1)y\\,=\\,0$"
   ]
  },
  {
   "cell_type": "code",
   "execution_count": 216,
   "id": "02ca93ba-a517-4541-b0bb-fe0ff634dfd8",
   "metadata": {},
   "outputs": [
    {
     "data": {
      "text/latex": [
       "$\\displaystyle 4 x^{2} \\frac{d^{2}}{d x^{2}} y{\\left(x \\right)} + 4 x \\frac{d}{d x} y{\\left(x \\right)} + \\left(x^{2} - 1\\right) y{\\left(x \\right)} = 0$"
      ],
      "text/plain": [
       "Eq(4*x**2*Derivative(y(x), (x, 2)) + 4*x*Derivative(y(x), x) + (x**2 - 1)*y(x), 0)"
      ]
     },
     "execution_count": 216,
     "metadata": {},
     "output_type": "execute_result"
    }
   ],
   "source": [
    "diff_eq = sp.Eq(4*x**2*y.diff(x,x) + 4*x*y.diff(x) + (x**2 -1)*y,0)\n",
    "diff_eq"
   ]
  },
  {
   "cell_type": "code",
   "execution_count": 217,
   "id": "956fc302-40e8-4752-8fea-f0dafc80c790",
   "metadata": {},
   "outputs": [
    {
     "data": {
      "text/latex": [
       "$\\displaystyle y{\\left(x \\right)} = C_{1} J_{\\frac{1}{2}}\\left(\\frac{x}{2}\\right) + C_{2} Y_{\\frac{1}{2}}\\left(\\frac{x}{2}\\right)$"
      ],
      "text/plain": [
       "Eq(y(x), C1*besselj(1/2, x/2) + C2*bessely(1/2, x/2))"
      ]
     },
     "execution_count": 217,
     "metadata": {},
     "output_type": "execute_result"
    }
   ],
   "source": [
    "soln = sp.dsolve(diff_eq, y)\n",
    "soln"
   ]
  },
  {
   "cell_type": "markdown",
   "id": "38db7e78-1a27-4c78-982b-fde1ef030396",
   "metadata": {},
   "source": [
    "#### <font color='red'>Dont understand - answer given in the book is $\\begin{array}{c c c c c}{{y}}&{{=}}&{{v e^{-\\int(p/2)}\\,d x}}&{{=}}&{{\\frac{e_{1}\\cos\\frac{1}{2}x\\,+\\,c_{2}\\sin\\frac{1}{2}x}{\\sqrt{x}}}}\\\\ {{}}&{{}}&{{}}&{{}}\\end{array}$ </font>"
   ]
  },
  {
   "cell_type": "markdown",
   "id": "7d387c5c-b9f8-44ef-a317-b940a2183f69",
   "metadata": {},
   "source": [
    "### Caucy or Eulers Equations are of the form $(b_{0}x^{n}D^{n}+b_{1}x^{n-1}D^{n-1}+\\cdot\\cdot\\cdot\\cdot\\cdot+b_{n-1}x D+b_{n})y\\ =\\ R(x)$"
   ]
  },
  {
   "cell_type": "markdown",
   "id": "1fe80a86-c08b-4395-9053-921c2cc66816",
   "metadata": {},
   "source": [
    "#### ${\\mathrm{Solve~}}~(x^{2}D^{2}+x D-4)y=x^{3}$\n",
    "### <font color='red'> Sympy cannot Solve </font>\n",
    "### <font color='red'> MATLAB cannot solve either </font>"
   ]
  },
  {
   "cell_type": "code",
   "execution_count": 221,
   "id": "96a97391-d3b2-4b61-b7f7-81e32e543303",
   "metadata": {},
   "outputs": [
    {
     "data": {
      "text/latex": [
       "$\\displaystyle \\left(x^{2} \\left(\\frac{d}{d x} y{\\left(x \\right)}\\right)^{2} + x \\frac{d}{d x} y{\\left(x \\right)} - 4\\right) y{\\left(x \\right)} = 0$"
      ],
      "text/plain": [
       "Eq((x**2*Derivative(y(x), x)**2 + x*Derivative(y(x), x) - 4)*y(x), 0)"
      ]
     },
     "execution_count": 221,
     "metadata": {},
     "output_type": "execute_result"
    }
   ],
   "source": [
    "diff_eq = sp.Eq((x**2*y.diff(x)**2 + x*y.diff(x) -4)*y,0)\n",
    "diff_eq"
   ]
  },
  {
   "cell_type": "code",
   "execution_count": 222,
   "id": "ec4deb2d-6d19-4399-8435-ff975875e049",
   "metadata": {},
   "outputs": [],
   "source": [
    "eq = (x**2*y.diff(x)**2 + x*y.diff(x) -4)*y - x**3\n",
    "#soln = sp.dsolve(eq, y)\n",
    "#oln"
   ]
  },
  {
   "cell_type": "markdown",
   "id": "6b5655ae-f19a-4fe7-a7ab-d9999f255375",
   "metadata": {},
   "source": [
    "### Exact Equation - $[a_{0}(x)D^{2}+a_{1}(x)D+a_{2}(x)]y=R(x)\\ {\\mathrm{~is~exact~if~and~only~if~}}a_{0}^{\\prime\\prime}-a_{1}^{\\prime}+a_{2}=0$"
   ]
  },
  {
   "cell_type": "markdown",
   "id": "f3368aba-95db-4098-8467-3cc57c2859e0",
   "metadata": {},
   "source": [
    "#### $\\begin{array}{r l}{{\\mathrm{Solve}}}&{{}{}(1-x^{2})y^{\\prime\\prime}-3x y^{\\prime}-y\\,=\\,1.}\\end{array}$\n",
    "### <font color='red'> Sympy cannot Solve </font>"
   ]
  },
  {
   "cell_type": "code",
   "execution_count": 225,
   "id": "bbd55e18-0fa6-446a-a462-7a0f684e95ad",
   "metadata": {},
   "outputs": [
    {
     "data": {
      "text/latex": [
       "$\\displaystyle - 3 x \\frac{d}{d x} f{\\left(x \\right)} + \\left(1 - x^{2}\\right) \\frac{d^{2}}{d x^{2}} f{\\left(x \\right)} - f{\\left(x \\right)} - 1 = 0$"
      ],
      "text/plain": [
       "Eq(-3*x*Derivative(f(x), x) + (1 - x**2)*Derivative(f(x), (x, 2)) - f(x) - 1, 0)"
      ]
     },
     "execution_count": 225,
     "metadata": {},
     "output_type": "execute_result"
    }
   ],
   "source": [
    "import sympy as sp\n",
    "x = sp.Symbol('x')\n",
    "y = sp.Function('f')(x)\n",
    "y.diff(x)\n",
    "diff_eq = sp.Eq((1-x**2)*y.diff(x,x) - 3*x*y.diff(x) -y - 1, 0)\n",
    "diff_eq"
   ]
  },
  {
   "cell_type": "code",
   "execution_count": 226,
   "id": "5487a897-59f3-463f-98f1-88c97d86a7f6",
   "metadata": {},
   "outputs": [],
   "source": [
    "#sol = sp.dsolve(diff_eq,y)"
   ]
  },
  {
   "cell_type": "markdown",
   "id": "ba8c4e93-4fb7-4e56-abf7-a9acdab879b8",
   "metadata": {},
   "source": [
    "### Operator Factorization\n",
    "#### Solve - $x y^{\\prime\\prime}+(2x+3)y^{\\prime}+4y\\,=\\,e^{2x}$\n",
    "### <font color='red'> Sympy cannot Solve </font>"
   ]
  },
  {
   "cell_type": "code",
   "execution_count": 228,
   "id": "f4da9187-f4a5-4c9c-a074-173c4260418c",
   "metadata": {},
   "outputs": [
    {
     "data": {
      "text/latex": [
       "$\\displaystyle x \\frac{d^{2}}{d x^{2}} f{\\left(x \\right)} + \\left(2 x + 3\\right) \\frac{d}{d x} f{\\left(x \\right)} + 4 f{\\left(x \\right)} = e^{2 x}$"
      ],
      "text/plain": [
       "Eq(x*Derivative(f(x), (x, 2)) + (2*x + 3)*Derivative(f(x), x) + 4*f(x), exp(2*x))"
      ]
     },
     "execution_count": 228,
     "metadata": {},
     "output_type": "execute_result"
    }
   ],
   "source": [
    "diff_eq = sp.Eq(x*y.diff(x,x) + (2*x+3)*y.diff(x) + 4*y, sp.exp(2*x))\n",
    "diff_eq"
   ]
  },
  {
   "cell_type": "code",
   "execution_count": 229,
   "id": "3654da47-10e5-4a6d-a244-ad3ce70cb5f4",
   "metadata": {},
   "outputs": [],
   "source": [
    "#sol = sp.dsolve(diff_eq,y)"
   ]
  },
  {
   "cell_type": "markdown",
   "id": "c950ff92-a571-42e6-9e48-094b89b48b4b",
   "metadata": {},
   "source": [
    "### Series Solutions to differential Equations\n",
    "#### Solve - $4x^{2}y^{\\prime\\prime}+4x y^{\\prime}+(x^{2}-1)y\\,=\\,0$ by series method"
   ]
  },
  {
   "cell_type": "code",
   "execution_count": 231,
   "id": "8d282fed-fc0d-4e4c-aa79-f66470dba76a",
   "metadata": {},
   "outputs": [
    {
     "data": {
      "text/latex": [
       "$\\displaystyle 4 x^{2} \\frac{d^{2}}{d x^{2}} f{\\left(x \\right)} + 4 x \\frac{d}{d x} f{\\left(x \\right)} + \\left(x^{2} - 1\\right) f{\\left(x \\right)} = 0$"
      ],
      "text/plain": [
       "Eq(4*x**2*Derivative(f(x), (x, 2)) + 4*x*Derivative(f(x), x) + (x**2 - 1)*f(x), 0)"
      ]
     },
     "execution_count": 231,
     "metadata": {},
     "output_type": "execute_result"
    }
   ],
   "source": [
    "diff_eq = sp.Eq(4*x**2*y.diff(x,x) + 4*x*y.diff(x) + (x**2 -1)*y,0)\n",
    "diff_eq"
   ]
  },
  {
   "cell_type": "code",
   "execution_count": 232,
   "id": "0cd341fa-9b10-4a6a-9596-7465a926db8d",
   "metadata": {},
   "outputs": [
    {
     "data": {
      "text/latex": [
       "$\\displaystyle f{\\left(x \\right)} = C_{2} \\sqrt{x} \\left(\\frac{x^{4}}{1920} - \\frac{x^{2}}{24} + 1\\right) + \\frac{C_{1} \\left(\\frac{x^{4}}{384} - \\frac{x^{2}}{8} + 1\\right)}{\\sqrt{x}} + O\\left(x^{6}\\right)$"
      ],
      "text/plain": [
       "Eq(f(x), C2*sqrt(x)*(x**4/1920 - x**2/24 + 1) + C1*(x**4/384 - x**2/8 + 1)/sqrt(x) + O(x**6))"
      ]
     },
     "execution_count": 232,
     "metadata": {},
     "output_type": "execute_result"
    }
   ],
   "source": [
    "sol = sp.dsolve(diff_eq,y,hint='2nd_power_series_regular')\n",
    "sol"
   ]
  },
  {
   "cell_type": "markdown",
   "id": "1936ebee-08b0-40c1-a640-9840a9df918e",
   "metadata": {},
   "source": [
    "### Solve systems of Equations \n",
    "#### Solve : $\\frac{d^{2}x}{d t^{2}}\\,+\\,\\frac{d y}{d t}\\,+\\,8x\\quad=\\quad e^{-t},\\qquad\\frac{d^{2}y}{d t^{2}}\\,-\\,4\\frac{d x}{d t}\\,+\\,8y\\quad=\\quad\\sin2t$"
   ]
  },
  {
   "cell_type": "code",
   "execution_count": 283,
   "id": "c331093a-1074-4cb5-874d-07ffdb2cce10",
   "metadata": {},
   "outputs": [
    {
     "data": {
      "text/latex": [
       "$\\displaystyle 8 y{\\left(t \\right)} - 4 \\frac{d}{d t} x{\\left(t \\right)} + \\frac{d^{2}}{d t^{2}} y{\\left(t \\right)} = \\sin{\\left(2 t \\right)}$"
      ],
      "text/plain": [
       "Eq(8*y(t) - 4*Derivative(x(t), t) + Derivative(y(t), (t, 2)), sin(2*t))"
      ]
     },
     "execution_count": 283,
     "metadata": {},
     "output_type": "execute_result"
    }
   ],
   "source": [
    "t = sp.symbols('t')#, real = True)#, constant = True)\n",
    "x, y = sp.symbols(\"x y\", cls=Function)\n",
    "eqs = [sp.Eq(x(t).diff(t,t)+y(t).diff(t)+8*x(t), sp.exp(-t)), sp.Eq(y(t).diff(t,t)-4*x(t).diff(t)+8*y(t),sp.sin(2*t))]\n",
    "eqs[1]"
   ]
  },
  {
   "cell_type": "code",
   "execution_count": 287,
   "id": "7dc872fb-cf8d-4e13-8809-6865465b8d91",
   "metadata": {},
   "outputs": [
    {
     "data": {
      "text/latex": [
       "$\\displaystyle y{\\left(t \\right)} = \\frac{C_{1} \\cos{\\left(2 t \\right)}}{2} + \\frac{C_{2} \\cos^{2}{\\left(2 t \\right)}}{2} - \\frac{C_{2}}{4} + \\frac{C_{3} \\sin{\\left(2 t \\right)}}{2} + \\frac{C_{4} \\sin{\\left(4 t \\right)}}{4} - \\frac{t \\cos{\\left(2 t \\right)}}{12} + \\frac{11 \\sin{\\left(2 t \\right)}}{144} - \\frac{4 e^{- t}}{85}$"
      ],
      "text/plain": [
       "Eq(y(t), C1*cos(2*t)/2 + C2*cos(2*t)**2/2 - C2/4 + C3*sin(2*t)/2 + C4*sin(4*t)/4 - t*cos(2*t)/12 + 11*sin(2*t)/144 - 4*exp(-t)/85)"
      ]
     },
     "execution_count": 287,
     "metadata": {},
     "output_type": "execute_result"
    }
   ],
   "source": [
    "from sympy.solvers.ode.systems import dsolve_system\n",
    "sol = dsolve_system(eqs,[x(t),y(t)])\n",
    "sol[0][1].simplify().simplify()"
   ]
  },
  {
   "cell_type": "code",
   "execution_count": null,
   "id": "76caa1d1-30fd-46cf-982a-ed113d8efa0c",
   "metadata": {},
   "outputs": [],
   "source": [
    "from sympy import Function, dsolve, pprint\n",
    "from sympy.abc import x\n",
    "f = Function('f')\n",
    "eq = (f(x)**2-4)*(f(x).diff(x)+f(x))\n",
    "eq\n",
    "#dsolve(eq, f(x))[2]"
   ]
  },
  {
   "cell_type": "markdown",
   "id": "00dae98f-2fbb-4b4e-b6a1-b6915b6b58e3",
   "metadata": {},
   "source": [
    "$\\left(f{\\left(x \\right)} + \\frac{d}{d x} f{\\left(x \\right)}\\right) \\left(f^{2}{\\left(x \\right)} - 4\\right)$\r\n"
   ]
  },
  {
   "cell_type": "code",
   "execution_count": null,
   "id": "4a09c593-2542-493d-9599-5dacd2086648",
   "metadata": {},
   "outputs": [],
   "source": []
  }
 ],
 "metadata": {
  "kernelspec": {
   "display_name": "Python 3 (ipykernel)",
   "language": "python",
   "name": "python3"
  },
  "language_info": {
   "codemirror_mode": {
    "name": "ipython",
    "version": 3
   },
   "file_extension": ".py",
   "mimetype": "text/x-python",
   "name": "python",
   "nbconvert_exporter": "python",
   "pygments_lexer": "ipython3",
   "version": "3.11.7"
  }
 },
 "nbformat": 4,
 "nbformat_minor": 5
}
