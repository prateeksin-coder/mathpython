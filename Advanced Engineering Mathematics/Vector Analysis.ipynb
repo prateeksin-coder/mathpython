{
 "cells": [
  {
   "cell_type": "code",
   "execution_count": null,
   "id": "880e5e4e-517f-42f2-98c4-6f950d82f001",
   "metadata": {},
   "outputs": [],
   "source": []
  }
 ],
 "metadata": {
  "kernelspec": {
   "display_name": "Python 3 (ipykernel)",
   "language": "python",
   "name": "python3"
  },
  "language_info": {
   "codemirror_mode": {
    "name": "ipython",
    "version": 3
   },
   "file_extension": ".py",
   "mimetype": "text/x-python",
   "name": "python",
   "nbconvert_exporter": "python",
   "pygments_lexer": "ipython3",
   "version": "3.11.7"
  }
 },
 "nbformat": 4,
 "nbformat_minor": 5
}
