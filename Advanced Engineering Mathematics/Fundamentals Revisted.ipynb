{
 "cells": [
  {
   "cell_type": "markdown",
   "id": "42e0d49c",
   "metadata": {},
   "source": [
    "### 1. Taylor Series in Sympy"
   ]
  },
  {
   "cell_type": "markdown",
   "id": "50b6c172",
   "metadata": {},
   "source": [
    "You can expand any continuous function as a polynomials\n",
    "\n",
    "\\\\( f(x)=\\sum_{n=0}^\\infty \\frac{1}{n!}f^{(n)}(x_0)\\,(x-x_0)^n\\\\)\n",
    "\n",
    "Here, \\\\( f^{(n)} \\\\) is the nth derivative and \\\\( x_0 \\\\) is the argument around which we expand the function"
   ]
  },
  {
   "cell_type": "markdown",
   "id": "43d6a72a",
   "metadata": {},
   "source": [
    "### 1.1 Example: Exponential function"
   ]
  },
  {
   "cell_type": "markdown",
   "id": "522c0227",
   "metadata": {},
   "source": [
    "\\\\( f(x)=f'(x)=f''(x)=\\dots=f^{(n)}(x)=\\exp(x) \\\\)"
   ]
  },
  {
   "cell_type": "code",
   "execution_count": 5,
   "id": "fb77c26a-c229-471f-a47d-913e37b7d5b6",
   "metadata": {},
   "outputs": [
    {
     "data": {
      "text/latex": [
       "$\\displaystyle 1 + x + \\frac{x^{2}}{2} + \\frac{x^{3}}{6} + \\frac{x^{4}}{24} + \\frac{x^{5}}{120} + O\\left(x^{6}\\right)$"
      ],
      "text/plain": [
       "1 + x + x**2/2 + x**3/6 + x**4/24 + x**5/120 + O(x**6)"
      ]
     },
     "execution_count": 5,
     "metadata": {},
     "output_type": "execute_result"
    }
   ],
   "source": [
    "import sympy as sp\n",
    "x = sp.symbols('x')\n",
    "y = sp.symbols('y')\n",
    "sp.series(sp.exp(x))"
   ]
  },
  {
   "cell_type": "code",
   "execution_count": 6,
   "id": "8f8774c3-2b41-44dc-b407-c5a1a64e36a1",
   "metadata": {},
   "outputs": [
    {
     "data": {
      "text/latex": [
       "$\\displaystyle 1 - \\frac{x^{2}}{2} + \\frac{x^{4}}{24} + O\\left(x^{6}\\right)$"
      ],
      "text/plain": [
       "1 - x**2/2 + x**4/24 + O(x**6)"
      ]
     },
     "execution_count": 6,
     "metadata": {},
     "output_type": "execute_result"
    }
   ],
   "source": [
    "sp.series(sp.cos(x))"
   ]
  },
  {
   "cell_type": "markdown",
   "id": "c57bdd2a-d676-467d-9147-aae8f9f69e38",
   "metadata": {},
   "source": [
    "### 1.2 Now we find the Taylor Series of any given function \n",
    "\\\\( e^{(2x+1)} \\\\)   at the point x = 2"
   ]
  },
  {
   "cell_type": "code",
   "execution_count": 8,
   "id": "9faa57c2-4857-4355-b148-34c5ca1a019d",
   "metadata": {},
   "outputs": [
    {
     "data": {
      "text/latex": [
       "$\\displaystyle e^{5} + 2 \\left(x - 2\\right) e^{5} + 2 \\left(x - 2\\right)^{2} e^{5} + \\frac{4 \\left(x - 2\\right)^{3} e^{5}}{3} + \\frac{2 \\left(x - 2\\right)^{4} e^{5}}{3} + O\\left(\\left(x - 2\\right)^{5}; x\\rightarrow 2\\right)$"
      ],
      "text/plain": [
       "exp(5) + 2*(x - 2)*exp(5) + 2*(x - 2)**2*exp(5) + 4*(x - 2)**3*exp(5)/3 + 2*(x - 2)**4*exp(5)/3 + O((x - 2)**5, (x, 2))"
      ]
     },
     "execution_count": 8,
     "metadata": {},
     "output_type": "execute_result"
    }
   ],
   "source": [
    "from sympy import *                   # load all math functions\n",
    "formula = exp( 2*x + 1 )\n",
    "#print(sp.latex(formula))\n",
    "#We want to evaluate the Taylor series around x = 2 and we want to consider the first 5 terms of the Taylor series\n",
    "series( formula, x, 2, 5 )"
   ]
  },
  {
   "cell_type": "code",
   "execution_count": 9,
   "id": "3d996df9-a7e6-4039-893e-4959a2dd52ed",
   "metadata": {},
   "outputs": [
    {
     "data": {
      "text/latex": [
       "$\\displaystyle \\frac{2 \\left(x - 2\\right)^{4} e^{5}}{3} + \\frac{4 \\left(x - 2\\right)^{3} e^{5}}{3} + 2 \\left(x - 2\\right)^{2} e^{5} + 2 \\left(x - 2\\right) e^{5} + e^{5}$"
      ],
      "text/plain": [
       "2*(x - 2)**4*exp(5)/3 + 4*(x - 2)**3*exp(5)/3 + 2*(x - 2)**2*exp(5) + 2*(x - 2)*exp(5) + exp(5)"
      ]
     },
     "execution_count": 9,
     "metadata": {},
     "output_type": "execute_result"
    }
   ],
   "source": [
    "series( formula, x, 2, 5 ).removeO()"
   ]
  },
  {
   "cell_type": "markdown",
   "id": "c6d13bce-60eb-49be-b166-d48147414f61",
   "metadata": {},
   "source": [
    "#### We evaluate the Taylor Series and the function, as it is, and find the results are matching"
   ]
  },
  {
   "cell_type": "code",
   "execution_count": 11,
   "id": "9b3524c3-5824-49ee-81e2-366dfb4445b3",
   "metadata": {},
   "outputs": [
    {
     "data": {
      "text/latex": [
       "$\\displaystyle 148.413159102577$"
      ],
      "text/plain": [
       "148.413159102577"
      ]
     },
     "execution_count": 11,
     "metadata": {},
     "output_type": "execute_result"
    }
   ],
   "source": [
    "series( formula, x, 2, 5 ).removeO().subs(x,2).evalf()"
   ]
  },
  {
   "cell_type": "code",
   "execution_count": 12,
   "id": "ac70fb11-0af6-40c1-a396-4a5cc41f61cf",
   "metadata": {},
   "outputs": [
    {
     "data": {
      "text/latex": [
       "$\\displaystyle 148.413159102577$"
      ],
      "text/plain": [
       "148.413159102577"
      ]
     },
     "execution_count": 12,
     "metadata": {},
     "output_type": "execute_result"
    }
   ],
   "source": [
    "#from IPython.display import display, Latex\n",
    "formula = exp( 2*x + 1 )\n",
    "formula.subs(x,2).evalf()\n",
    "#myEqn = sp.Eq(sp.sin(x)**2 + sp.cos(x)**2, 1)\n",
    "#print(sp.latex(myEqn))"
   ]
  },
  {
   "cell_type": "markdown",
   "id": "9ec468cf-1afd-469d-bd02-e8e18a154b75",
   "metadata": {},
   "source": [
    "## 2. Infinite Series\n",
    "###### There are various tests employed to check the convergence like divergence test, root test, integral test, alternating series test, comparison tests, Dirichlet tests. It returns true if Sum is convergent and false if divergent and NotImplementedError if it cannot be checked.\n",
    "\n",
    "Sympy cannot check the convergence or limits of series while 2 symbols are varied, yet"
   ]
  },
  {
   "cell_type": "code",
   "execution_count": 14,
   "id": "a57c9109-4a89-4cc7-a163-df1a49351f72",
   "metadata": {},
   "outputs": [
    {
     "data": {
      "text/latex": [
       "$\\displaystyle \\text{False}$"
      ],
      "text/plain": [
       "False"
      ]
     },
     "execution_count": 14,
     "metadata": {},
     "output_type": "execute_result"
    }
   ],
   "source": [
    "n = Symbol('n')\n",
    "sp.Sum(n/(2*n + 1), (n, 1, oo)).is_convergent()"
   ]
  },
  {
   "cell_type": "markdown",
   "id": "818e5e34-49cd-4c8d-a269-7c349a3cbbff",
   "metadata": {},
   "source": [
    "##### We can simplify trigonometric identities and Sympy can use the trigonometric identities like \n",
    "##### \\\\( \\sin^{2}{\\left(x \\right)} + \\cos^{2}{\\left(x \\right)} = 1 \\\\)"
   ]
  },
  {
   "cell_type": "code",
   "execution_count": 16,
   "id": "7338f6e9-30cc-4e9d-94a0-d6b45ee5d499",
   "metadata": {},
   "outputs": [
    {
     "data": {
      "text/latex": [
       "$\\displaystyle 2 \\sin^{2}{\\left(x \\right)}$"
      ],
      "text/plain": [
       "2*sin(x)**2"
      ]
     },
     "execution_count": 16,
     "metadata": {},
     "output_type": "execute_result"
    }
   ],
   "source": [
    "sp.simplify((1-sp.cos(2*x)))"
   ]
  },
  {
   "cell_type": "code",
   "execution_count": 17,
   "id": "d9f4d5c0-1b32-4f63-8f8d-d8f569ae89a6",
   "metadata": {},
   "outputs": [
    {
     "data": {
      "text/latex": [
       "$\\displaystyle e^{x}$"
      ],
      "text/plain": [
       "exp(x)"
      ]
     },
     "execution_count": 17,
     "metadata": {},
     "output_type": "execute_result"
    }
   ],
   "source": [
    "sp.simplify(sp.sinh(x) + sp.cosh(x))"
   ]
  },
  {
   "cell_type": "code",
   "execution_count": 18,
   "id": "b227d3fa-ef44-47a7-b41b-d99f5aec208b",
   "metadata": {},
   "outputs": [
    {
     "data": {
      "text/latex": [
       "$\\displaystyle 120$"
      ],
      "text/plain": [
       "120"
      ]
     },
     "execution_count": 18,
     "metadata": {},
     "output_type": "execute_result"
    }
   ],
   "source": [
    "fact = sp.factorial(x)\n",
    "fact.subs(x,5)"
   ]
  },
  {
   "cell_type": "code",
   "execution_count": 19,
   "id": "0cc508e6-3e6e-47ea-922f-bdc9ceeddd6d",
   "metadata": {},
   "outputs": [
    {
     "data": {
      "text/latex": [
       "$\\displaystyle \\cosh{\\left(x \\right)}$"
      ],
      "text/plain": [
       "cosh(x)"
      ]
     },
     "execution_count": 19,
     "metadata": {},
     "output_type": "execute_result"
    }
   ],
   "source": [
    "sp.sinh(x).diff(x)"
   ]
  },
  {
   "cell_type": "markdown",
   "id": "e677e272-0607-4df3-8c2f-1316b430b99d",
   "metadata": {},
   "source": [
    "#### We can manipulate logarithms very easily"
   ]
  },
  {
   "cell_type": "code",
   "execution_count": 21,
   "id": "6e16044b-4345-42f8-b3c7-15b65893416f",
   "metadata": {},
   "outputs": [
    {
     "data": {
      "text/latex": [
       "$\\displaystyle \\log{\\left(x \\right)} + \\log{\\left(y \\right)}$"
      ],
      "text/plain": [
       "log(x) + log(y)"
      ]
     },
     "execution_count": 21,
     "metadata": {},
     "output_type": "execute_result"
    }
   ],
   "source": [
    "sp.expand_log(sp.log(x*y), force='true')"
   ]
  },
  {
   "cell_type": "code",
   "execution_count": 22,
   "id": "f72a246c-f6eb-4cac-8b50-792421a3c593",
   "metadata": {},
   "outputs": [
    {
     "data": {
      "text/latex": [
       "$\\displaystyle y \\log{\\left(x \\right)}$"
      ],
      "text/plain": [
       "y*log(x)"
      ]
     },
     "execution_count": 22,
     "metadata": {},
     "output_type": "execute_result"
    }
   ],
   "source": [
    "sp.expand_log(sp.log(x**y), force='true')"
   ]
  },
  {
   "cell_type": "markdown",
   "id": "14ab4cb8-ef76-46bd-a574-f9fa0e817a73",
   "metadata": {},
   "source": [
    "#### Default logarithm is to base e.\n",
    "To take logarithm to any other base use sp.log(number,base) \n",
    "For example sp.log(256,2) is base 2 raised to the power 8"
   ]
  },
  {
   "cell_type": "code",
   "execution_count": 24,
   "id": "951d645b-414c-48f3-b3af-2b6e4c902467",
   "metadata": {},
   "outputs": [
    {
     "data": {
      "text/latex": [
       "$\\displaystyle 1$"
      ],
      "text/plain": [
       "1"
      ]
     },
     "execution_count": 24,
     "metadata": {},
     "output_type": "execute_result"
    }
   ],
   "source": [
    "# This proves the default logarithm is to base 2\n",
    "sp.log(sp.exp(1))\n",
    "sp.log(sp.E)"
   ]
  },
  {
   "cell_type": "code",
   "execution_count": 25,
   "id": "d132ef0f-27b7-4c7d-b3b6-ad67db18ee25",
   "metadata": {},
   "outputs": [
    {
     "data": {
      "text/latex": [
       "$\\displaystyle 8$"
      ],
      "text/plain": [
       "8"
      ]
     },
     "execution_count": 25,
     "metadata": {},
     "output_type": "execute_result"
    }
   ],
   "source": [
    "sp.log(256,2)"
   ]
  },
  {
   "cell_type": "code",
   "execution_count": 26,
   "id": "964f65e7-ee7d-4bbb-abf6-b8c62d5ced85",
   "metadata": {},
   "outputs": [
    {
     "data": {
      "text/latex": [
       "$\\displaystyle x^{2} - 1 = 0$"
      ],
      "text/plain": [
       "Eq(x**2 - 1, 0)"
      ]
     },
     "execution_count": 26,
     "metadata": {},
     "output_type": "execute_result"
    }
   ],
   "source": [
    "sp.Eq(x**2 - 1, 0)"
   ]
  },
  {
   "cell_type": "markdown",
   "id": "528afcda-d4fb-4485-882e-1ed0b010adce",
   "metadata": {},
   "source": [
    "#### Solving a simple equation can be done like this. When we specify an equation the LHS and RHS are separated by commas"
   ]
  },
  {
   "cell_type": "code",
   "execution_count": 28,
   "id": "1ebefdab-cfdd-4d67-aae3-78f481a3fa5f",
   "metadata": {},
   "outputs": [
    {
     "data": {
      "text/plain": [
       "[-1, 1]"
      ]
     },
     "execution_count": 28,
     "metadata": {},
     "output_type": "execute_result"
    }
   ],
   "source": [
    "sp.solve(sp.Eq(x**2 - 1, 0),x)"
   ]
  },
  {
   "cell_type": "code",
   "execution_count": 29,
   "id": "b6a79de5-df5d-42b2-9564-4dd09b4de772",
   "metadata": {},
   "outputs": [
    {
     "data": {
      "text/plain": [
       "[-1, 1]"
      ]
     },
     "execution_count": 29,
     "metadata": {},
     "output_type": "execute_result"
    }
   ],
   "source": [
    "sp.solve(x**2 - 1, x)"
   ]
  },
  {
   "cell_type": "code",
   "execution_count": 30,
   "id": "a7f087a6-5720-43c1-be53-64467667417a",
   "metadata": {},
   "outputs": [
    {
     "data": {
      "text/latex": [
       "$\\displaystyle 6$"
      ],
      "text/plain": [
       "6"
      ]
     },
     "execution_count": 30,
     "metadata": {},
     "output_type": "execute_result"
    }
   ],
   "source": [
    "f = 2*x**3 - 3*x + 5\n",
    "f.subs(x,-1)"
   ]
  },
  {
   "cell_type": "code",
   "execution_count": 31,
   "id": "6551b36a-d1f9-4f0f-b4a5-7c40b32e283d",
   "metadata": {},
   "outputs": [
    {
     "data": {
      "text/latex": [
       "$\\displaystyle 5$"
      ],
      "text/plain": [
       "5"
      ]
     },
     "execution_count": 31,
     "metadata": {},
     "output_type": "execute_result"
    }
   ],
   "source": [
    "f.subs(x,0)"
   ]
  },
  {
   "cell_type": "markdown",
   "id": "2a263e8e-5f67-4edf-8c78-df61af735698",
   "metadata": {},
   "source": [
    "#### Limits"
   ]
  },
  {
   "cell_type": "code",
   "execution_count": 33,
   "id": "e28bd2e4-2c55-463c-b211-c4648a54670a",
   "metadata": {},
   "outputs": [
    {
     "data": {
      "text/latex": [
       "$\\displaystyle 1$"
      ],
      "text/plain": [
       "1"
      ]
     },
     "execution_count": 33,
     "metadata": {},
     "output_type": "execute_result"
    }
   ],
   "source": [
    "limit(sin(x)/x, x, 0)"
   ]
  },
  {
   "cell_type": "markdown",
   "id": "9c14440e-034c-45df-9c0e-8da4a314bb36",
   "metadata": {},
   "source": [
    "To find the Limit of    :\n",
    "\\\\( \\mathop {\\lim }\\limits_{x \\to 1} \\frac{{{x^m} – 1}}{{x – 1}} = m\\\\ \\\\)"
   ]
  },
  {
   "cell_type": "code",
   "execution_count": 35,
   "id": "976078c1-cf21-404f-ba0b-6c23a9f03c6a",
   "metadata": {},
   "outputs": [
    {
     "data": {
      "text/latex": [
       "$\\displaystyle m$"
      ],
      "text/plain": [
       "m"
      ]
     },
     "execution_count": 35,
     "metadata": {},
     "output_type": "execute_result"
    }
   ],
   "source": [
    "# Sympy currently cant define custom constants except some inbuilt constants for relativity and QM\n",
    "m = sp.symbols('m')\n",
    "f = sp.Function('f')(x,m)\n",
    "expr = Limit((x**m - 1)/(x - 1),x,1)\n",
    "expr.doit()"
   ]
  },
  {
   "cell_type": "markdown",
   "id": "f5135c89-e3ff-4b11-8941-6eef5ea4fb56",
   "metadata": {},
   "source": [
    "To find the limit of : \\\\( \\mathop {\\lim }\\limits_{x \\to \\infty } {{\\left( {1 + \\frac{1}{x}} \\right)}^x} = e\\\\ \\\\)"
   ]
  },
  {
   "cell_type": "code",
   "execution_count": 37,
   "id": "32604c88-73a6-4658-8bdd-630eabf32730",
   "metadata": {},
   "outputs": [
    {
     "data": {
      "text/latex": [
       "$\\displaystyle e$"
      ],
      "text/plain": [
       "E"
      ]
     },
     "execution_count": 37,
     "metadata": {},
     "output_type": "execute_result"
    }
   ],
   "source": [
    "limit((1+1/x)**x,x,oo)"
   ]
  },
  {
   "cell_type": "markdown",
   "id": "344d6b60-c5a3-49fa-a0a3-f35dc4b264c0",
   "metadata": {},
   "source": [
    "#### Differentiation and Integration"
   ]
  },
  {
   "cell_type": "code",
   "execution_count": 39,
   "id": "2a8fb338-0797-4aaf-b72d-d4bb2cecb9ee",
   "metadata": {},
   "outputs": [
    {
     "data": {
      "text/latex": [
       "$\\displaystyle \\frac{\\cos{\\left(\\log{\\left(x \\right)} \\right)}}{x}$"
      ],
      "text/plain": [
       "cos(log(x))/x"
      ]
     },
     "execution_count": 39,
     "metadata": {},
     "output_type": "execute_result"
    }
   ],
   "source": [
    "f = sp.Function('f')(x)\n",
    "f = sp.sin(log(x))\n",
    "f.diff(x)"
   ]
  },
  {
   "cell_type": "code",
   "execution_count": 40,
   "id": "d26fe233-4e16-430e-8ce2-a802c2a693a0",
   "metadata": {},
   "outputs": [
    {
     "data": {
      "text/latex": [
       "$\\displaystyle \\frac{3 e^{3 x} - 2 \\sin{\\left(2 x \\right)}}{e^{3 x} + \\cos{\\left(2 x \\right)}}$"
      ],
      "text/plain": [
       "(3*exp(3*x) - 2*sin(2*x))/(exp(3*x) + cos(2*x))"
      ]
     },
     "execution_count": 40,
     "metadata": {},
     "output_type": "execute_result"
    }
   ],
   "source": [
    "f = sp.Function('f')(x)\n",
    "f = sp.log(sp.exp(3*x) + sp.cos(2*x))\n",
    "f.diff(x).simplify(force='true')"
   ]
  },
  {
   "cell_type": "code",
   "execution_count": 41,
   "id": "b3f08389-f2dc-4b90-8ad7-4fd5e78f5523",
   "metadata": {},
   "outputs": [
    {
     "data": {
      "text/latex": [
       "$\\displaystyle \\frac{x^{2} \\sqrt{x^{2} + 1}}{3} + \\frac{\\sqrt{x^{2} + 1}}{3}$"
      ],
      "text/plain": [
       "x**2*sqrt(x**2 + 1)/3 + sqrt(x**2 + 1)/3"
      ]
     },
     "execution_count": 41,
     "metadata": {},
     "output_type": "execute_result"
    }
   ],
   "source": [
    "f = sp.Function('f')(x)\n",
    "f = x*sp.sqrt(x**2+1)\n",
    "sp.integrate(f)"
   ]
  },
  {
   "cell_type": "markdown",
   "id": "2a6d58f4-e224-48bf-b95e-f561a410f765",
   "metadata": {},
   "source": [
    "##### Sympy can handle integration by parts"
   ]
  },
  {
   "cell_type": "code",
   "execution_count": 43,
   "id": "05522be7-15b6-4872-b435-0624aab669d1",
   "metadata": {},
   "outputs": [
    {
     "data": {
      "text/latex": [
       "$\\displaystyle - \\frac{x \\cos{\\left(2 x \\right)}}{2} + \\frac{\\sin{\\left(2 x \\right)}}{4}$"
      ],
      "text/plain": [
       "-x*cos(2*x)/2 + sin(2*x)/4"
      ]
     },
     "execution_count": 43,
     "metadata": {},
     "output_type": "execute_result"
    }
   ],
   "source": [
    "f = sp.Function('f')(x)\n",
    "f = x*sp.sin(2*x)\n",
    "sp.integrate(f)"
   ]
  },
  {
   "cell_type": "code",
   "execution_count": 44,
   "id": "b829d7a7-bd67-48cd-9f58-645a0fa4d00a",
   "metadata": {},
   "outputs": [
    {
     "data": {
      "text/latex": [
       "$\\displaystyle - \\frac{\\log{\\left(2 \\right)}}{2} + \\frac{\\log{\\left(5 \\right)}}{2}$"
      ],
      "text/plain": [
       "-log(2)/2 + log(5)/2"
      ]
     },
     "execution_count": 44,
     "metadata": {},
     "output_type": "execute_result"
    }
   ],
   "source": [
    "# Integration within bounds or definite integrals\n",
    "f = sp.Function('f')(x)\n",
    "f = x / (x**2 + 1)\n",
    "sp.integrate(f,(x,1,2)) # We specify the bounds of the variable x when we integrate w.r.t it"
   ]
  },
  {
   "cell_type": "markdown",
   "id": "826c31c7-1b3f-409e-8018-b678025789f4",
   "metadata": {},
   "source": [
    "#### Functions of 2 or more variables and partial derivatives"
   ]
  },
  {
   "cell_type": "code",
   "execution_count": 46,
   "id": "c917b0c4-9d6d-43ca-9c2e-4c9f096b98c4",
   "metadata": {},
   "outputs": [],
   "source": [
    "f = sp.Function('f')(x,y)"
   ]
  },
  {
   "cell_type": "code",
   "execution_count": 47,
   "id": "02028533-e54b-4560-ae49-a8a39024d6a4",
   "metadata": {},
   "outputs": [],
   "source": [
    "f = 3*x**2 - 4*x*y + 2*y**2"
   ]
  },
  {
   "cell_type": "code",
   "execution_count": 48,
   "id": "d4ee5e9e-0a73-4624-a35e-4577a2bbe4eb",
   "metadata": {},
   "outputs": [
    {
     "data": {
      "text/latex": [
       "$\\displaystyle 6 x - 4 y$"
      ],
      "text/plain": [
       "6*x - 4*y"
      ]
     },
     "execution_count": 48,
     "metadata": {},
     "output_type": "execute_result"
    }
   ],
   "source": [
    "f.diff(y) #Differential with respect to y\n",
    "f.diff(x) #Differentiate with respect to x"
   ]
  },
  {
   "cell_type": "markdown",
   "id": "b633ed2e-78c6-4138-838c-3e7090999c37",
   "metadata": {},
   "source": [
    "#### Double integrals          \\\\( \\int_{-\\infty}^{\\infty}\\int_{-\\infty}^{\\infty} e^{- x^{2} - y^{2}}\\, dx\\, dy \\\\)"
   ]
  },
  {
   "cell_type": "code",
   "execution_count": 50,
   "id": "e1ccd40c-1373-4331-9eed-7a22e351512c",
   "metadata": {},
   "outputs": [
    {
     "data": {
      "text/latex": [
       "$\\displaystyle \\pi$"
      ],
      "text/plain": [
       "pi"
      ]
     },
     "execution_count": 50,
     "metadata": {},
     "output_type": "execute_result"
    }
   ],
   "source": [
    "integrate(exp(-x**2 - y**2), (x, -oo, oo), (y, -oo, oo))"
   ]
  },
  {
   "cell_type": "markdown",
   "id": "53136f1a-b4ac-4ff5-919a-2a4158189147",
   "metadata": {},
   "source": [
    "## Maxima Minima"
   ]
  },
  {
   "cell_type": "markdown",
   "id": "df6127e5-3d11-4f32-8700-aa1291a905b5",
   "metadata": {},
   "source": [
    "## Complex Numbers"
   ]
  },
  {
   "cell_type": "markdown",
   "id": "72732290-eba2-426a-b373-ad689eaa8ca7",
   "metadata": {},
   "source": [
    "## Matrices"
   ]
  },
  {
   "cell_type": "code",
   "execution_count": null,
   "id": "8d2b2dce-43e9-42b0-857c-be661a88def8",
   "metadata": {},
   "outputs": [],
   "source": []
  }
 ],
 "metadata": {
  "kernelspec": {
   "display_name": "Python 3 (ipykernel)",
   "language": "python",
   "name": "python3"
  },
  "language_info": {
   "codemirror_mode": {
    "name": "ipython",
    "version": 3
   },
   "file_extension": ".py",
   "mimetype": "text/x-python",
   "name": "python",
   "nbconvert_exporter": "python",
   "pygments_lexer": "ipython3",
   "version": "3.11.7"
  }
 },
 "nbformat": 4,
 "nbformat_minor": 5
}
